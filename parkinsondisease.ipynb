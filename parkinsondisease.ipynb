{
  "cells": [
    {
      "cell_type": "code",
      "execution_count": null,
      "id": "d0de34c3",
      "metadata": {
        "id": "d0de34c3"
      },
      "outputs": [],
      "source": [
        "pip install numpy pandas sklearn xgboost"
      ]
    },
    {
      "cell_type": "code",
      "execution_count": null,
      "id": "952eeefb",
      "metadata": {
        "id": "952eeefb"
      },
      "outputs": [],
      "source": [
        "import numpy as np\n",
        "import pandas as pd\n",
        "import os, sys\n",
        "from sklearn.preprocessing import MinMaxScaler\n",
        "from xgboost import XGBClassifier\n",
        "from sklearn.model_selection import train_test_split\n",
        "from sklearn.metrics import accuracy_score\n"
      ]
    },
    {
      "cell_type": "code",
      "execution_count": null,
      "id": "92caef16",
      "metadata": {
        "id": "92caef16"
      },
      "outputs": [],
      "source": [
        "df=pd.read_csv('parkinsons.csv')\n",
        "df.head(8)"
      ]
    },
    {
      "cell_type": "code",
      "execution_count": null,
      "id": "57bc8bd6",
      "metadata": {
        "id": "57bc8bd6"
      },
      "outputs": [],
      "source": [
        "features=df.loc[:,df.columns!='status'].values[:,1:]\n",
        "labels=df.loc[:,'status'].values\n"
      ]
    },
    {
      "cell_type": "code",
      "execution_count": null,
      "id": "828219ed",
      "metadata": {
        "id": "828219ed"
      },
      "outputs": [],
      "source": [
        "# Get the count of each label (0 and 1) in labels\n",
        "print(labels[labels==1].shape[0], labels[labels==0].shape[0])"
      ]
    },
    {
      "cell_type": "code",
      "execution_count": null,
      "id": "887ac58c",
      "metadata": {
        "id": "887ac58c"
      },
      "outputs": [],
      "source": [
        "#Scale the features to between -1 and 1\n",
        "scaler=MinMaxScaler((-1,1))\n",
        "x=scaler.fit_transform(features)\n",
        "y=labels"
      ]
    },
    {
      "cell_type": "code",
      "execution_count": null,
      "id": "b85ee99f",
      "metadata": {
        "id": "b85ee99f"
      },
      "outputs": [],
      "source": [
        "# Split the dataset\n",
        "x_train,x_test,y_train,y_test=train_test_split(x, y, test_size=0.2, random_state=7)"
      ]
    },
    {
      "cell_type": "code",
      "execution_count": null,
      "id": "ba2980b1",
      "metadata": {
        "id": "ba2980b1"
      },
      "outputs": [],
      "source": [
        "#Train the model\n",
        "model=XGBClassifier()\n",
        "model.fit(x_train,y_train)"
      ]
    },
    {
      "cell_type": "code",
      "execution_count": null,
      "id": "e0c41e9c",
      "metadata": {
        "id": "e0c41e9c"
      },
      "outputs": [],
      "source": [
        "#  Calculate the accuracy\n",
        "y_pred=model.predict(x_test)\n",
        "print(accuracy_score(y_test, y_pred)*100)"
      ]
    },
    {
      "cell_type": "code",
      "execution_count": null,
      "id": "b0e9887d",
      "metadata": {
        "id": "b0e9887d"
      },
      "outputs": [],
      "source": [
        ""
      ]
    }
  ],
  "metadata": {
    "kernelspec": {
      "display_name": "Python 3 (ipykernel)",
      "language": "python",
      "name": "python3"
    },
    "language_info": {
      "codemirror_mode": {
        "name": "ipython",
        "version": 3
      },
      "file_extension": ".py",
      "mimetype": "text/x-python",
      "name": "python",
      "nbconvert_exporter": "python",
      "pygments_lexer": "ipython3",
      "version": "3.9.7"
    },
    "colab": {
      "name": "parkinsondisease.ipynb",
      "provenance": [],
      "collapsed_sections": []
    }
  },
  "nbformat": 4,
  "nbformat_minor": 5
}