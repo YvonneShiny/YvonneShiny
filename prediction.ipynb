{
  "cells": [
    {
      "cell_type": "code",
      "execution_count": null,
      "id": "e5c74035",
      "metadata": {
        "id": "e5c74035"
      },
      "outputs": [],
      "source": [
        "import pandas as pd\n",
        "import numpy as np\n",
        "import matplotlib.pyplot as plt\n"
      ]
    },
    {
      "cell_type": "code",
      "execution_count": null,
      "id": "20b50009",
      "metadata": {
        "id": "20b50009"
      },
      "outputs": [],
      "source": [
        "url=\"http://bit.ly/w-data\""
      ]
    },
    {
      "cell_type": "code",
      "execution_count": null,
      "id": "3cc47dc3",
      "metadata": {
        "id": "3cc47dc3",
        "outputId": "3b5955d5-48c6-41a1-c423-0981a947f34b"
      },
      "outputs": [
        {
          "data": {
            "text/html": [
              "<div>\n",
              "<style scoped>\n",
              "    .dataframe tbody tr th:only-of-type {\n",
              "        vertical-align: middle;\n",
              "    }\n",
              "\n",
              "    .dataframe tbody tr th {\n",
              "        vertical-align: top;\n",
              "    }\n",
              "\n",
              "    .dataframe thead th {\n",
              "        text-align: right;\n",
              "    }\n",
              "</style>\n",
              "<table border=\"1\" class=\"dataframe\">\n",
              "  <thead>\n",
              "    <tr style=\"text-align: right;\">\n",
              "      <th></th>\n",
              "      <th>Hours</th>\n",
              "      <th>Scores</th>\n",
              "    </tr>\n",
              "  </thead>\n",
              "  <tbody>\n",
              "    <tr>\n",
              "      <th>0</th>\n",
              "      <td>2.5</td>\n",
              "      <td>21</td>\n",
              "    </tr>\n",
              "    <tr>\n",
              "      <th>1</th>\n",
              "      <td>5.1</td>\n",
              "      <td>47</td>\n",
              "    </tr>\n",
              "    <tr>\n",
              "      <th>2</th>\n",
              "      <td>3.2</td>\n",
              "      <td>27</td>\n",
              "    </tr>\n",
              "    <tr>\n",
              "      <th>3</th>\n",
              "      <td>8.5</td>\n",
              "      <td>75</td>\n",
              "    </tr>\n",
              "    <tr>\n",
              "      <th>4</th>\n",
              "      <td>3.5</td>\n",
              "      <td>30</td>\n",
              "    </tr>\n",
              "    <tr>\n",
              "      <th>5</th>\n",
              "      <td>1.5</td>\n",
              "      <td>20</td>\n",
              "    </tr>\n",
              "    <tr>\n",
              "      <th>6</th>\n",
              "      <td>9.2</td>\n",
              "      <td>88</td>\n",
              "    </tr>\n",
              "    <tr>\n",
              "      <th>7</th>\n",
              "      <td>5.5</td>\n",
              "      <td>60</td>\n",
              "    </tr>\n",
              "  </tbody>\n",
              "</table>\n",
              "</div>"
            ],
            "text/plain": [
              "   Hours  Scores\n",
              "0    2.5      21\n",
              "1    5.1      47\n",
              "2    3.2      27\n",
              "3    8.5      75\n",
              "4    3.5      30\n",
              "5    1.5      20\n",
              "6    9.2      88\n",
              "7    5.5      60"
            ]
          },
          "execution_count": 13,
          "metadata": {},
          "output_type": "execute_result"
        }
      ],
      "source": [
        "    s_data= pd.read_csv(url)\n",
        " \n",
        " #print (\"Data imported successfully\") \n",
        "    s_data.head(8)\n"
      ]
    },
    {
      "cell_type": "code",
      "execution_count": null,
      "id": "f1dc8fd6",
      "metadata": {
        "id": "f1dc8fd6",
        "outputId": "7475f4cc-290d-4af2-e564-ea566c916b8e"
      },
      "outputs": [
        {
          "data": {
            "text/plain": [
              "pandas.core.frame.DataFrame"
            ]
          },
          "execution_count": 14,
          "metadata": {},
          "output_type": "execute_result"
        }
      ],
      "source": [
        "type(s_data) "
      ]
    },
    {
      "cell_type": "code",
      "execution_count": null,
      "id": "7b7b237b",
      "metadata": {
        "id": "7b7b237b",
        "outputId": "6d73682d-69e3-4116-f055-3e820f4cb6ca"
      },
      "outputs": [
        {
          "data": {
            "image/png": "[encoded data removed]",
            "text/plain": [
              "<Figure size 432x288 with 1 Axes>"
            ]
          },
          "metadata": {
            "needs_background": "light"
          },
          "output_type": "display_data"
        }
      ],
      "source": [
        " s_data.plot(x='Hours',y='Scores',style='--')\n",
        " plt.title('Hours vs Percentage') \n",
        " plt.xlabel('Hours Studied') \n",
        " plt.ylabel('Percentage Score') \n",
        " plt.show()\n"
      ]
    },
    {
      "cell_type": "code",
      "execution_count": null,
      "id": "19fc1af8",
      "metadata": {
        "id": "19fc1af8"
      },
      "outputs": [],
      "source": [
        "x=s_data.iloc[:,:-1].values \n",
        "y=s_data.iloc[:, 1].values \n"
      ]
    },
    {
      "cell_type": "code",
      "execution_count": null,
      "id": "5d84e96b",
      "metadata": {
        "id": "5d84e96b"
      },
      "outputs": [],
      "source": [
        "from sklearn.model_selection import train_test_split\n",
        "x_train, x_test, y_train, y_test=train_test_split(x, y,test_size=0.2, random_state=0)\n",
        "     \n"
      ]
    },
    {
      "cell_type": "code",
      "execution_count": null,
      "id": "4e01fa28",
      "metadata": {
        "id": "4e01fa28",
        "outputId": "6a19bdde-e5bf-4a62-b7f8-5466d4f2fb12"
      },
      "outputs": [
        {
          "name": "stdout",
          "output_type": "stream",
          "text": [
            "Training complete\n"
          ]
        }
      ],
      "source": [
        " from sklearn.linear_model import LinearRegression\n",
        " regressor = LinearRegression()\n",
        " regressor.fit(x_train, y_train)\n",
        "    \n",
        " print(\"Training complete\")\n",
        "\n",
        " \n"
      ]
    },
    {
      "cell_type": "code",
      "execution_count": null,
      "id": "1ab11368",
      "metadata": {
        "id": "1ab11368"
      },
      "outputs": [],
      "source": [
        " line=regressor.coef_*x+regressor.intercept_"
      ]
    },
    {
      "cell_type": "code",
      "execution_count": null,
      "id": "643b5155",
      "metadata": {
        "id": "643b5155",
        "outputId": "7008ce3c-d7e7-4d68-a0e2-9ab9b45c62af"
      },
      "outputs": [
        {
          "data": {
            "image/png": "[encoded data removed]",
            "text/plain": [
              "<Figure size 432x288 with 1 Axes>"
            ]
          },
          "metadata": {
            "needs_background": "light"
          },
          "output_type": "display_data"
        }
      ],
      "source": [
        " #Plotting for the test data        \n",
        " plt.scatter(x, y)\n",
        " plt.plot(x, line);\n",
        " plt.title(\"Comparison\")\n",
        " plt.show()\n"
      ]
    },
    {
      "cell_type": "code",
      "execution_count": null,
      "id": "9a391f83",
      "metadata": {
        "id": "9a391f83",
        "outputId": "a5a13143-e42d-45a7-816e-e75467545eff"
      },
      "outputs": [
        {
          "name": "stdout",
          "output_type": "stream",
          "text": [
            "[9.91065648]\n"
          ]
        }
      ],
      "source": [
        " print (regressor.coef_)"
      ]
    },
    {
      "cell_type": "code",
      "execution_count": null,
      "id": "e2f2fb7b",
      "metadata": {
        "id": "e2f2fb7b"
      },
      "outputs": [],
      "source": [
        "#**Making Predictions:*\\n\", \"Now that we have trained our algorithm, time to make some predictions   "
      ]
    },
    {
      "cell_type": "code",
      "execution_count": null,
      "id": "67b1a29d",
      "metadata": {
        "id": "67b1a29d",
        "outputId": "77dc35a8-95e5-49c8-cec1-5f8562a892fa"
      },
      "outputs": [
        {
          "name": "stdout",
          "output_type": "stream",
          "text": [
            "[[1.5]\n",
            " [3.2]\n",
            " [7.4]\n",
            " [2.5]\n",
            " [5.9]]\n"
          ]
        }
      ],
      "source": [
        "print (x_test)"
      ]
    },
    {
      "cell_type": "code",
      "execution_count": null,
      "id": "34ba1f64",
      "metadata": {
        "id": "34ba1f64"
      },
      "outputs": [],
      "source": [
        " y_pred= regressor.predict(x_test)"
      ]
    },
    {
      "cell_type": "code",
      "execution_count": null,
      "id": "cd259aa5",
      "metadata": {
        "id": "cd259aa5",
        "outputId": "4bec0676-2ffb-48ce-df18-6005f443a319"
      },
      "outputs": [
        {
          "data": {
            "text/html": [
              "<div>\n",
              "<style scoped>\n",
              "    .dataframe tbody tr th:only-of-type {\n",
              "        vertical-align: middle;\n",
              "    }\n",
              "\n",
              "    .dataframe tbody tr th {\n",
              "        vertical-align: top;\n",
              "    }\n",
              "\n",
              "    .dataframe thead th {\n",
              "        text-align: right;\n",
              "    }\n",
              "</style>\n",
              "<table border=\"1\" class=\"dataframe\">\n",
              "  <thead>\n",
              "    <tr style=\"text-align: right;\">\n",
              "      <th></th>\n",
              "      <th>Actual</th>\n",
              "      <th>Predicted</th>\n",
              "    </tr>\n",
              "  </thead>\n",
              "  <tbody>\n",
              "    <tr>\n",
              "      <th>0</th>\n",
              "      <td>20</td>\n",
              "      <td>16.884145</td>\n",
              "    </tr>\n",
              "    <tr>\n",
              "      <th>1</th>\n",
              "      <td>27</td>\n",
              "      <td>33.732261</td>\n",
              "    </tr>\n",
              "    <tr>\n",
              "      <th>2</th>\n",
              "      <td>69</td>\n",
              "      <td>75.357018</td>\n",
              "    </tr>\n",
              "    <tr>\n",
              "      <th>3</th>\n",
              "      <td>30</td>\n",
              "      <td>26.794801</td>\n",
              "    </tr>\n",
              "    <tr>\n",
              "      <th>4</th>\n",
              "      <td>62</td>\n",
              "      <td>60.491033</td>\n",
              "    </tr>\n",
              "  </tbody>\n",
              "</table>\n",
              "</div>"
            ],
            "text/plain": [
              "   Actual  Predicted\n",
              "0      20  16.884145\n",
              "1      27  33.732261\n",
              "2      69  75.357018\n",
              "3      30  26.794801\n",
              "4      62  60.491033"
            ]
          },
          "execution_count": 75,
          "metadata": {},
          "output_type": "execute_result"
        }
      ],
      "source": [
        "df=pd.DataFrame({'Actual': y_test,'Predicted':y_pred}) \n",
        "df\n"
      ]
    },
    {
      "cell_type": "code",
      "execution_count": null,
      "id": "0c82f10f",
      "metadata": {
        "id": "0c82f10f",
        "outputId": "d2906966-a9ec-4c95-9f80-d2bd36e53c87"
      },
      "outputs": [
        {
          "name": "stdout",
          "output_type": "stream",
          "text": [
            "No of hours=9.25\n",
            "Predicted Score =93.69173248737539\n"
          ]
        }
      ],
      "source": [
        "score_pred=np.array([9.25]) \n",
        "score_pred=score_pred.reshape (-1,1) \n",
        "predict=regressor.predict(score_pred)\n",
        "print(\"No of hours={}\".format(9.25))\n",
        "print(\"Predicted Score ={}\". format (predict[0]))\n"
      ]
    },
    {
      "cell_type": "code",
      "execution_count": null,
      "id": "2c9443ea",
      "metadata": {
        "id": "2c9443ea",
        "outputId": "8bc4d39c-d7a5-42ed-9de8-e50db7a57e5b"
      },
      "outputs": [
        {
          "name": "stdout",
          "output_type": "stream",
          "text": [
            "Mean Absolute Error: 4.183859899002982\n"
          ]
        }
      ],
      "source": [
        " from sklearn import metrics\n",
        "print('Mean Absolute Error:' ,\n",
        "    metrics.mean_absolute_error(y_test, y_pred))\n",
        " \n"
      ]
    },
    {
      "cell_type": "code",
      "execution_count": null,
      "id": "b476b46c",
      "metadata": {
        "id": "b476b46c"
      },
      "outputs": [],
      "source": [
        ""
      ]
    }
  ],
  "metadata": {
    "kernelspec": {
      "display_name": "Python 3 (ipykernel)",
      "language": "python",
      "name": "python3"
    },
    "language_info": {
      "codemirror_mode": {
        "name": "ipython",
        "version": 3
      },
      "file_extension": ".py",
      "mimetype": "text/x-python",
      "name": "python",
      "nbconvert_exporter": "python",
      "pygments_lexer": "ipython3",
      "version": "3.9.7"
    },
    "colab": {
      "name": "prediction.ipynb",
      "provenance": []
    }
  },
  "nbformat": 4,
  "nbformat_minor": 5
}